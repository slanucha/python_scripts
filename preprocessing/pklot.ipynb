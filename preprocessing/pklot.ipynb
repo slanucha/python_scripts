{
 "cells": [
  {
   "cell_type": "code",
   "execution_count": 70,
   "metadata": {},
   "outputs": [],
   "source": [
    "import cv2\n",
    "import numpy as np\n",
    "import xml.etree.ElementTree as ET\n",
    "\n",
    "xml_file = '2012-10-26_19_30_05.xml'\n",
    "img_file = '2012-10-26_19_30_05.jpg'"
   ]
  },
  {
   "cell_type": "code",
   "execution_count": 73,
   "metadata": {},
   "outputs": [],
   "source": [
    "img = cv2.imread(img_file)"
   ]
  },
  {
   "cell_type": "code",
   "execution_count": 43,
   "metadata": {},
   "outputs": [],
   "source": [
    "tree = ET.parse(xml_file)\n",
    "root = tree.getroot()"
   ]
  },
  {
   "cell_type": "code",
   "execution_count": 74,
   "metadata": {},
   "outputs": [],
   "source": [
    "for space in root.findall('space'):\n",
    "    contour = space.find('contour')\n",
    "    pts = np.array([[int(point.attrib['x']), int(point.attrib['y'])] for point in contour])\n",
    "    #cv2.polylines(img, [pts], True, (0, 0, 255), 1)        \n",
    "    cv2.rectangle(img, (np.min(pts[:, 0]), np.min(pts[:, 1])), (np.max(pts[:, 0]), np.max(pts[:, 1])), (0, 255, 0), 1)\n",
    "        \n",
    "cv2.imshow('Image', img)\n",
    "cv2.waitKey(0)\n",
    "cv2.destroyAllWindows()"
   ]
  },
  {
   "cell_type": "code",
   "execution_count": 75,
   "metadata": {},
   "outputs": [
    {
     "data": {
      "text/plain": [
       "True"
      ]
     },
     "execution_count": 75,
     "metadata": {},
     "output_type": "execute_result"
    }
   ],
   "source": [
    "for space in root.findall('space'):\n",
    "    contour = space.find('contour')\n",
    "    pts = np.array([[int(point.attrib['x']), int(point.attrib['y'])] for point in contour])\n",
    "    #cv2.polylines(img, [pts], True, (0, 0, 255), 1)        \n",
    "    cv2.rectangle(img, (np.min(pts[:, 0]), np.min(pts[:, 1])), (np.max(pts[:, 0]), np.max(pts[:, 1])), (0, 255, 0), 1)\n",
    "\n",
    "cv2.imwrite('mesh.jpg', img)"
   ]
  },
  {
   "cell_type": "code",
   "execution_count": 69,
   "metadata": {},
   "outputs": [],
   "source": [
    "out_root = ET.Element('annotation')\n",
    "\n",
    "out_header = ET.XML('''\n",
    "<root>\n",
    "    <folder>ImageDatabase</folder>\n",
    "    <filename>test.jpg</filename>\n",
    "    <path>test.jpg</path>\n",
    "    <source>\n",
    "        <database>Unknown</database>\n",
    "    </source>\n",
    "    <size>\n",
    "        <width>{}</width>\n",
    "        <height>{}</height>\n",
    "        <depth>3</depth>\n",
    "    </size>\n",
    "    <segmented>0</segmented>\n",
    "</root>\n",
    "'''.format(img.shape[1], img.shape[0]))\n",
    " \n",
    "\n",
    "out_root.extend(out_header)\n",
    "\n",
    "\n",
    "for space in root.findall('space'):\n",
    "    contour = space.find('contour')\n",
    "    pts = np.array([[int(point.attrib['x']), int(point.attrib['y'])] for point in contour])\n",
    "    #cv2.rectangle(img, (np.min(pts[:, 0]), np.min(pts[:, 1])), (np.max(pts[:, 0]), np.max(pts[:, 1])), (0, 255, 0), 1)\n",
    "    out_obj = ET.XML('''\n",
    "        <root>\n",
    "            <object>\n",
    "                <name>car2</name>\n",
    "                <pose>Unspecified</pose>\n",
    "                <truncated>0</truncated>\n",
    "                <difficult>0</difficult>\n",
    "                <bndbox>\n",
    "                    <xmin>{}</xmin>\n",
    "                    <ymin>{}</ymin>\n",
    "                    <xmax>{}</xmax>\n",
    "                    <ymax>{}</ymax>\n",
    "                </bndbox>\n",
    "            </object>\n",
    "        </root>\n",
    "        '''.format(np.min(pts[:, 0]), np.min(pts[:, 1]), np.max(pts[:, 0]), np.max(pts[:, 1]))\n",
    "    )\n",
    "    out_root.extend(out_obj)\n",
    "    \n",
    "ET.ElementTree(out_root).write('test2.xml')"
   ]
  },
  {
   "cell_type": "code",
   "execution_count": null,
   "metadata": {},
   "outputs": [],
   "source": []
  }
 ],
 "metadata": {
  "kernelspec": {
   "display_name": "Python 3",
   "language": "python",
   "name": "python3"
  },
  "language_info": {
   "codemirror_mode": {
    "name": "ipython",
    "version": 3
   },
   "file_extension": ".py",
   "mimetype": "text/x-python",
   "name": "python",
   "nbconvert_exporter": "python",
   "pygments_lexer": "ipython3",
   "version": "3.6.9"
  }
 },
 "nbformat": 4,
 "nbformat_minor": 4
}
